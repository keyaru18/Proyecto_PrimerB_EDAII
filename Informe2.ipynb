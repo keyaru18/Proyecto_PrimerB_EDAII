{
 "cells": [
  {
   "cell_type": "raw",
   "id": "03e5cc56",
   "metadata": {
    "vscode": {
     "languageId": "raw"
    }
   },
   "source": [
    "---\n",
    "title: \"Informe: Implementación de BFS y DFS para Análisis de Redes Sociales\"\n",
    "author: \"Richard Tipantiza, Jairo Angulo , Tamara Benavides\"\n",
    "lang: es\n",
    "format:\n",
    "  pdf:\n",
    "    toc: true\n",
    "    toc-title: \"Tabla de Contenidos\"\n",
    "bibliography: bibliography.bib\n",
    "csl: apa-6th-edition.csl\n",
    "execute:\n",
    "  echo: true\n",
    "  error: false\n",
    "  warning: false\n",
    "jupyter: python3\n",
    "---\n"
   ]
  },
  {
   "cell_type": "markdown",
   "id": "5425968e",
   "metadata": {},
   "source": [
    "# OBJETIVOS\n",
    "- Desarrollar un grafo de perfiles dentro de una red social, implementando estructuras de datos para representar usuarios y conexiones, junto con algoritmos de búsqueda BFS y DFS.\n",
    "\n",
    "- Implementar una estructura de grafo mediante POO, creando clases para nodos, aristas y el grafo completo, permitiendo el modelado preciso de conexiones en redes sociales.\n"
   ]
  },
  {
   "cell_type": "markdown",
   "id": "d37ad970",
   "metadata": {},
   "source": [
    "# INTRODUCCIÓN\n",
    "\n",
    "El proyecto desarrollado implementa los algoritmos BFS (Breadth-First Search) y DFS (Depth-First Search) para el análisis de conexiones en redes sociales, donde los nodos representan a los usuarios y las aristas simbolizan relaciones como amistades o seguidores. Como señala Coto (2003)[@netto2003grafos], estos algoritmos son fundamentales para resolver problemas de procesamiento de grafos, donde el BFS \"es el algoritmo clásico para encontrar el camino más corto entre dos nodos específicos\" (p. 13), mientras que el DFS explora conexiones profundas mediante recursividad. El algoritmo BFS se utiliza para identificar el camino más corto entre dos usuarios, como los amigos en común más cercanos, mientras que el algoritmo DFS se emplea para explorar comunidades o conexiones más profundas, como los seguidores de seguidores. La implementación basada en programación orientada a objetos (POO) aporta escalabilidad al sistema, al permitir la incorporación de atributos a los nodos, como intereses o ubicación, así como la asignación de pesos a las aristas, como la frecuencia de interacción.[@sanchez2006tutorial]"
   ]
  },
  {
   "cell_type": "markdown",
   "id": "1a8d16ee",
   "metadata": {},
   "source": [
    "# DESAROLLO\n",
    "## Importación de librerías\n",
    "Vamos a importar las librerías necesarias para:\n",
    "\n",
    "- `collections.deque`: Para implementar colas eficientes en BFS\n",
    "\n",
    "- `networkx` y `matplotlib`: Para visualización de grafos\n",
    "\n",
    "- `ipywidgets`: Para interactividad en el notebook"
   ]
  },
  {
   "cell_type": "code",
   "execution_count": 1,
   "id": "7b8172d4",
   "metadata": {},
   "outputs": [],
   "source": [
    "from collections import deque\n",
    "import networkx as nx\n",
    "import matplotlib.pyplot as plt\n",
    "from IPython.display import display\n",
    "import ipywidgets as widgets\n",
    "\n",
    "# Configurar matplotlib para mostrar ventanas emergentes\n",
    "%matplotlib qt"
   ]
  },
  {
   "cell_type": "markdown",
   "id": "58ca5185",
   "metadata": {},
   "source": [
    "## Clases Base: Arista y Nodo\n",
    "\n",
    "Definimos las estructuras fundamentales:\n",
    "\n",
    "- Arista: Conexión entre nodos con peso.\n",
    "\n",
    "- Nodo: Elemento básico del grafo con nombre y tipo."
   ]
  },
  {
   "cell_type": "code",
   "execution_count": 2,
   "id": "e28248da",
   "metadata": {},
   "outputs": [],
   "source": [
    "class Arista:\n",
    "    def __init__(self, nodo1, nodo2, peso=1):\n",
    "        self.nodo1 = nodo1\n",
    "        self.nodo2 = nodo2\n",
    "        self.peso = peso\n",
    "\n",
    "class Nodo:\n",
    "    def __init__(self, nombre, tipo=None):\n",
    "        self.nombre = nombre\n",
    "        self.tipo = tipo  # entrada, salida, edificio, etc.\n",
    "\n",
    "    def __repr__(self):\n",
    "        return self.nombre"
   ]
  },
  {
   "cell_type": "markdown",
   "id": "4284457a",
   "metadata": {},
   "source": [
    "## Clase Grafo: Estructura Principal\n",
    "Implementación con:\n",
    "\n",
    "- Lista de adyacencia para almacenar conexiones\n",
    "\n",
    "- Métodos para agregar nodos y aristas\n",
    "\n",
    "- Algoritmos BFS y DFS para búsqueda de rutas"
   ]
  },
  {
   "cell_type": "code",
   "execution_count": 3,
   "id": "dbbac2e8",
   "metadata": {},
   "outputs": [],
   "source": [
    "class Grafo:\n",
    "    def __init__(self):\n",
    "        self.nodos = {}\n",
    "        self.aristas = []\n",
    "        self.adj_list = {}\n",
    "\n",
    "    def agregar_nodo(self, nodo):\n",
    "        if nodo.nombre not in self.nodos:\n",
    "            self.nodos[nodo.nombre] = nodo\n",
    "            self.adj_list[nodo] = []\n",
    "\n",
    "    def agregar_arista(self, nodo1, nodo2, peso=1):\n",
    "        if nodo1.nombre in self.nodos and nodo2.nombre in self.nodos:\n",
    "            arista = Arista(nodo1, nodo2, peso)\n",
    "            self.aristas.append(arista)\n",
    "            self.adj_list[nodo1].append(nodo2)\n",
    "            self.adj_list[nodo2].append(nodo1)\n",
    "        else:\n",
    "            raise ValueError(\"Uno o ambos nodos no existen\")"
   ]
  },
  {
   "cell_type": "markdown",
   "id": "c92be6e0",
   "metadata": {},
   "source": [
    "## Algoritmo BFS (Breadth-First Search)\n",
    "\n",
    "- Encuentra la ruta más corta \n",
    "\n",
    "- Usa cola (FIFO) para explorar niveles\n",
    "\n"
   ]
  },
  {
   "cell_type": "code",
   "execution_count": 4,
   "id": "59e66d35",
   "metadata": {},
   "outputs": [],
   "source": [
    "\n",
    "def bfs(self, inicio, fin):\n",
    "        visitados = {nodo: False for nodo in self.nodos.values()}\n",
    "        cola = deque([(inicio, [inicio])])\n",
    "        visitados[inicio] = True\n",
    "\n",
    "        while cola:\n",
    "            actual, camino = cola.popleft()\n",
    "            if actual == fin:\n",
    "                return camino\n",
    "            for vecino in self.adj_list[actual]:\n",
    "                if not visitados[vecino]:\n",
    "                    visitados[vecino] = True\n",
    "                    cola.append((vecino, camino + [vecino]))\n",
    "        return None"
   ]
  },
  {
   "cell_type": "markdown",
   "id": "8171f074",
   "metadata": {},
   "source": [
    "## Algoritmo DFS (Depth-First Search)\n",
    "\n",
    "- Explora ramas completas antes de retroceder\n",
    "\n",
    "- Implementación recursiva \n",
    "\n",
    "- Útil para encontrar componentes conectados"
   ]
  },
  {
   "cell_type": "code",
   "execution_count": 5,
   "id": "77295ded",
   "metadata": {},
   "outputs": [],
   "source": [
    "\n",
    "def dfs(self, inicio, destino):\n",
    "        print(\"\\nIniciando DFS (recursivo)...\")\n",
    "        searched = {nodo: False for nodo in self.nodos.values()}\n",
    "        parents = {}\n",
    "        componentR = []\n",
    "\n",
    "        def _dfs(nodo, parent=None):\n",
    "            componentR.append(nodo)\n",
    "            searched[nodo] = True\n",
    "            parents[nodo] = parent\n",
    "\n",
    "            print(f\"Estado de búsqueda en nodo {nodo}:\")\n",
    "            print({n.nombre: v for n, v in searched.items()})\n",
    "            print(f\"Vecinos de {nodo}: {self.adj_list[nodo]}\")\n",
    "            print()\n",
    "\n",
    "            if nodo == destino:\n",
    "                return True\n",
    "\n",
    "            for vecino in self.adj_list[nodo]:\n",
    "                if not searched[vecino]:\n",
    "                    if _dfs(vecino, nodo):\n",
    "                        return True\n",
    "                    print(f\"Finaliza {vecino}\")\n",
    "                    print(f\"Vuelve a {nodo}\")\n",
    "                    print()\n",
    "\n",
    "            return False\n",
    "\n",
    "        encontrado = _dfs(inicio)\n",
    "\n",
    "        if encontrado:\n",
    "            camino = []\n",
    "            actual = destino\n",
    "            while actual is not None:\n",
    "                camino.append(actual)\n",
    "                actual = parents.get(actual)\n",
    "            camino.reverse()\n",
    "            print(\" Ruta encontrada con DFS:\")\n",
    "            print(\" → \".join(n.nombre for n in camino))\n",
    "            return camino\n",
    "        else:\n",
    "            print(\" No se encontró ruta con DFS\")\n",
    "            return None"
   ]
  },
  {
   "cell_type": "markdown",
   "id": "e2cddf39",
   "metadata": {},
   "source": [
    "## Función de Construcción del Grafo Demo\n",
    "Crea un grafo predefinido que simula una red social con:\n",
    "\n",
    "- 14 nodos (usuarios)\n",
    "\n",
    "- 20 conexiones bidireccionales"
   ]
  },
  {
   "cell_type": "code",
   "execution_count": 7,
   "id": "3f0d5454",
   "metadata": {},
   "outputs": [],
   "source": [
    "def construir_grafo_demo():\n",
    "    grafo = Grafo()\n",
    "    nodos = {\n",
    "        \"Jairo\": Nodo(\"Jairo\", \"entrada\"),\n",
    "        \"Marco\": Nodo(\"Marco\", \"punto_interes\"),\n",
    "        \"Daniela\": Nodo(\"Daniela\", \"salida\"),\n",
    "        \"Camila\": Nodo(\"Camila\", \"punto_interes\"),\n",
    "        \"Eve\": Nodo(\"Eve\", \"punto_interes\"),\n",
    "        \"Richard\": Nodo(\"Richard\", \"punto_interes\"),\n",
    "        \"Grace\": Nodo(\"Grace\", \"edificio\"),\n",
    "        \"Estefano\": Nodo(\"Estefano\", \"salida\"),\n",
    "        \"Lenin\": Nodo(\"Lenin\", \"usuario\"),\n",
    "        \"Lorena\": Nodo(\"Lorena\", \"usuario\"),\n",
    "        \"Eddy\": Nodo(\"Eddy\", \"usuario\"),\n",
    "        \"Laura\": Nodo(\"Laura\", \"usuario\"),\n",
    "        \"Miguel\": Nodo(\"Miguel\", \"usuario\"),\n",
    "        \"Tamara\": Nodo(\"Tamara\", \"usuario\")\n",
    "    }\n",
    "\n",
    "    for nodo in nodos.values():\n",
    "        grafo.agregar_nodo(nodo)\n",
    "\n",
    "    conexiones = [\n",
    "        (\"Jairo\", \"Eve\"),\n",
    "        (\"Eve\", \"Daniela\"),\n",
    "        (\"Camila\", \"Richard\"),\n",
    "        (\"Richard\", \"Grace\"),\n",
    "        (\"Grace\", \"Daniela\"),\n",
    "        (\"Jairo\", \"Marco\"),\n",
    "        (\"Marco\", \"Estefano\"),\n",
    "        (\"Estefano\", \"Richard\"),\n",
    "        (\"Estefano\", \"Eve\"),\n",
    "        (\"Estefano\", \"Camila\"),\n",
    "        (\"Lenin\", \"Marco\"),\n",
    "        (\"Lenin\", \"Lorena\"),\n",
    "        (\"Lorena\", \"Eddy\"),\n",
    "        (\"Eddy\", \"Laura\"),\n",
    "        (\"Laura\", \"Eve\"),\n",
    "        (\"Miguel\", \"Eddy\"),\n",
    "        (\"Miguel\", \"Richard\"),\n",
    "        (\"Tamara\", \"Lorena\"),\n",
    "        (\"Tamara\", \"Camila\"),\n",
    "        (\"Grace\", \"Tamara\")\n",
    "    ]\n",
    "\n",
    "    for a, b in conexiones:\n",
    "        grafo.agregar_arista(nodos[a], nodos[b])\n",
    "\n",
    "    return grafo"
   ]
  },
  {
   "cell_type": "markdown",
   "id": "c0f74fc0",
   "metadata": {},
   "source": [
    "## Visualización Interactiva del Grafo\n",
    "Función para dibujar el grafo usando networkx y matplotlib, con capacidad para seleccionar nodos haciendo clic.\n",
    "Características:\n",
    "\n",
    "- Layout Kamada-Kawai para distribución orgánica\n",
    "\n",
    "- Eventos de clic para selección interactiva\n",
    "\n",
    "- Temporización para mantener la figura activa"
   ]
  },
  {
   "cell_type": "code",
   "execution_count": 8,
   "id": "5a4d1b68",
   "metadata": {},
   "outputs": [],
   "source": [
    "def dibujar_grafo_interactivo(grafo):\n",
    "    G = nx.Graph()\n",
    "    for nodo in grafo.nodos.values():\n",
    "        G.add_node(nodo.nombre)\n",
    "    for arista in grafo.aristas:\n",
    "        G.add_edge(arista.nodo1.nombre, arista.nodo2.nombre)\n",
    "\n",
    "    pos = nx.kamada_kawai_layout(G)\n",
    "    fig, ax = plt.subplots(figsize=(14, 10))\n",
    "    nx.draw(G, pos, with_labels=True, node_color='lightblue', edge_color='gray',\n",
    "            node_size=2000, font_size=10, width=2)\n",
    "    \n",
    "    plt.title(\" Red Social - Selecciona dos usuarios para buscar la ruta\")\n",
    "\n",
    "    seleccionados = []\n",
    "\n",
    "    def onclick(event):\n",
    "        if event.inaxes is not ax:\n",
    "            return\n",
    "        x, y = event.xdata, event.ydata\n",
    "        nodo_cercano = min(pos, key=lambda n: (pos[n][0]-x)**2 + (pos[n][1]-y)**2)\n",
    "        if nodo_cercano not in seleccionados:\n",
    "            seleccionados.append(nodo_cercano)\n",
    "            print(f\"Seleccionado: {nodo_cercano}\")\n",
    "        if len(seleccionados) == 2:\n",
    "            fig.canvas.mpl_disconnect(cid)\n",
    "            plt.close(fig)\n",
    "\n",
    "    cid = fig.canvas.mpl_connect('button_press_event', onclick)\n",
    "    plt.show()\n",
    "\n",
    "    while plt.fignum_exists(fig.number):\n",
    "        plt.pause(0.1)\n",
    "\n",
    "    return seleccionados"
   ]
  },
  {
   "cell_type": "markdown",
   "id": "01fb61bd",
   "metadata": {},
   "source": [
    "## Visualización de Rutas\n",
    "Función para resaltar rutas encontradas:\n",
    "\n",
    "- Nodos en rojo: Ruta encontrada\n",
    "\n",
    "- Aristas en rojo: Conexiones utilizadas\n",
    "\n",
    "- Diferenciación visual entre BFS/DFS"
   ]
  },
  {
   "cell_type": "code",
   "execution_count": 9,
   "id": "5dde2ed1",
   "metadata": {},
   "outputs": [],
   "source": [
    "def dibujar_ruta(grafo, ruta, titulo):\n",
    "    G = nx.Graph()\n",
    "    for nodo in grafo.nodos.values():\n",
    "        G.add_node(nodo.nombre)\n",
    "    for arista in grafo.aristas:\n",
    "        G.add_edge(arista.nodo1.nombre, arista.nodo2.nombre)\n",
    "\n",
    "    pos = nx.kamada_kawai_layout(G)\n",
    "\n",
    "    fig, ax = plt.subplots(figsize=(14, 10))\n",
    "\n",
    "    nombres_ruta = [n.nombre for n in ruta]\n",
    "    colores_nodos = ['red' if nodo in nombres_ruta else 'lightblue' for nodo in G.nodes()]\n",
    "    aristas_ruta = list(zip(nombres_ruta[:-1], nombres_ruta[1:]))\n",
    "    colores_aristas = ['red' if (u, v) in aristas_ruta or (v, u) in aristas_ruta else 'gray' for u, v in G.edges()]\n",
    "\n",
    "    nx.draw(G, pos, with_labels=True, node_color=colores_nodos, edge_color=colores_aristas,\n",
    "            node_size=2000, font_size=10, width=2, ax=ax)\n",
    "\n",
    "    # Título informativo con enfoque de red social y tipo de algoritmo\n",
    "    if \"BFS\" in titulo:\n",
    "        plt.title(\" BFS - Ruta más corta entre dos usuarios en la red social\")\n",
    "    elif \"DFS\" in titulo:\n",
    "        plt.title(\"🔶 DFS - Ruta profunda entre dos usuarios en la red social\")\n",
    "    else:\n",
    "        plt.title(f\" Ruta encontrada - {titulo}\")\n",
    "\n",
    "    plt.show()"
   ]
  },
  {
   "cell_type": "markdown",
   "id": "ca774796",
   "metadata": {},
   "source": [
    "## Función Principal de Simulación\n",
    "Orquesta todo el flujo:\n",
    "\n",
    "- Construye el grafo demo\n",
    "\n",
    "- Permite selección interactiva\n",
    "\n",
    "- Ejecuta BFS y DFS\n",
    "\n",
    "- Visualiza resultados"
   ]
  },
  {
   "cell_type": "code",
   "execution_count": null,
   "id": "554646db",
   "metadata": {},
   "outputs": [],
   "source": [
    "def ejecutar_simulacion():\n",
    "    grafo = construir_grafo_demo()\n",
    "    \n",
    "    print(\" Haz clic en el nodo de inicio y luego en el de destino...\")\n",
    "    seleccionados = dibujar_grafo_interactivo(grafo)\n",
    "    \n",
    "    if len(seleccionados) != 2:\n",
    "        print(\"❌ Debes seleccionar exactamente 2 nodos\")\n",
    "        return\n",
    "    \n",
    "    inicio, fin = seleccionados\n",
    "    nodo_inicio = grafo.nodos[inicio]\n",
    "    nodo_fin = grafo.nodos[fin]\n",
    "    \n",
    "    print(f\"\\nRuta desde {inicio} hasta {fin}:\")\n",
    "    \n",
    "    print(\"\\n Ejecutando BFS (Ruta más corta)...\")\n",
    "    ruta_bfs = grafo.bfs(nodo_inicio, nodo_fin)\n",
    "    if ruta_bfs:\n",
    "        print(\" → \".join(n.nombre for n in ruta_bfs))\n",
    "        dibujar_ruta(grafo, ruta_bfs, \"BFS - Ruta más corta\")\n",
    "    else:\n",
    "        print(\"No se encontró ruta con BFS\")\n",
    "    \n",
    "    print(\"\\n🔶 Ejecutando DFS (Ruta más profunda)...\")\n",
    "    ruta_dfs = grafo.dfs(nodo_inicio, nodo_fin)\n",
    "    if ruta_dfs:\n",
    "        print(\" → \".join(n.nombre for n in ruta_dfs))\n",
    "        dibujar_ruta(grafo, ruta_dfs, \"DFS - Ruta más profunda\")\n",
    "    else:\n",
    "        print(\"No se encontró ruta con DFS\")\n",
    "\n",
    "# Ejecutar la simulación\n",
    "print(\"=== Simulador de Conexiones en Red Social ===\")\n",
    "ejecutar_simulacion()"
   ]
  },
  {
   "cell_type": "markdown",
   "id": "5f2f0134",
   "metadata": {},
   "source": [
    "## Resultados\n",
    "\n",
    "- BFS\n",
    "\n"
   ]
  },
  {
   "cell_type": "markdown",
   "id": "861dd69f",
   "metadata": {},
   "source": [
    "![Ruta corta entre Daniela y Eddy](attachment:image.png)"
   ]
  },
  {
   "cell_type": "markdown",
   "id": "45d530b7",
   "metadata": {},
   "source": []
  }
 ],
 "metadata": {
  "kernelspec": {
   "display_name": "Python 3",
   "language": "python",
   "name": "python3"
  },
  "language_info": {
   "codemirror_mode": {
    "name": "ipython",
    "version": 3
   },
   "file_extension": ".py",
   "mimetype": "text/x-python",
   "name": "python",
   "nbconvert_exporter": "python",
   "pygments_lexer": "ipython3",
   "version": "3.13.3"
  }
 },
 "nbformat": 4,
 "nbformat_minor": 5
}
