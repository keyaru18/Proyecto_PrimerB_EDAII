{
 "cells": [
  {
   "cell_type": "markdown",
   "id": "b8ba0ab5",
   "metadata": {},
   "source": [
    "# Actividad 1: Implementación del Grafo y Algoritmos"
   ]
  },
  {
   "cell_type": "markdown",
   "id": "0b2832c8",
   "metadata": {},
   "source": [
    "- Implementar las clases Grafo, Nodo y Arista en Python\n",
    "- Programar los algoritmos BFS y DFS con sus respectivas variantes (camino más corto para BFS y ruta más profunda para DFS)\n",
    "- Asegurar que el código siga el paradigma orientado a objetos\n",
    "- Documentar el código con comentarios claros\n",
    "- Preparar ejemplos de prueba para verificar el funcionamiento"
   ]
  },
  {
   "cell_type": "markdown",
   "id": "50bde7a7",
   "metadata": {},
   "source": [
    "## Implementar las clases Grafo, Nodo y Arista en Python\n"
   ]
  },
  {
   "cell_type": "markdown",
   "id": "ca90591b",
   "metadata": {},
   "source": [
    "### Clase Nodo"
   ]
  },
  {
   "cell_type": "code",
   "execution_count": 124,
   "id": "e2108f6e",
   "metadata": {},
   "outputs": [],
   "source": [
    "class Nodo:\n",
    "    \"\"\"Representa un nodo en el grafo\"\"\"\n",
    "    def __init__(self, id): # Metodo Constructor\n",
    "        self.id = id\n",
    "        self.vecinos = []  # Lista de nodos adyacentes\n",
    "        self.visitado = False  # Para algoritmos de búsqueda\n",
    "        self.padre = None  # Para reconstruir caminos\n",
    "        self.distancia = float('inf')  # Para BFS\n",
    "\n",
    "    def agregar_vecino(self, nodo):\n",
    "        \"\"\"Añade una conexión bidireccional entre nodos\"\"\"\n",
    "        if nodo not in self.vecinos:\n",
    "            self.vecinos.append(nodo)\n",
    "            nodo.vecinos.append(self)  # Grafo no dirigido\n",
    "\n",
    "    def __str__(self):\n",
    "        return self.id"
   ]
  },
  {
   "cell_type": "markdown",
   "id": "80a3159e",
   "metadata": {},
   "source": [
    "### Clase Arista"
   ]
  },
  {
   "cell_type": "code",
   "execution_count": 125,
   "id": "309979dd",
   "metadata": {},
   "outputs": [],
   "source": [
    "class Arista:\n",
    "    \"\"\"Representa una conexión entre dos nodos\"\"\"\n",
    "    def __init__(self, nodo1, nodo2):   # Metodo Constructor\n",
    "        self.nodo1 = nodo1\n",
    "        self.nodo2 = nodo2\n",
    "        nodo1.agregar_vecino(nodo2)  # Establece la conexión"
   ]
  },
  {
   "cell_type": "markdown",
   "id": "047a2e8d",
   "metadata": {},
   "source": [
    "### Clase Grafo"
   ]
  },
  {
   "cell_type": "code",
   "execution_count": 126,
   "id": "804849ae",
   "metadata": {},
   "outputs": [],
   "source": [
    "from collections import deque\n",
    "class Grafo:\n",
    "    def __init__(self):     # Metodo Constructor\n",
    "        self.nodos = {}  # Diccionario id: objeto Nodo\n",
    "\n",
    "    def agregar_nodo(self, id):\n",
    "        \"\"\"Añade un nuevo nodo al grafo\"\"\"\n",
    "        if id not in self.nodos:\n",
    "            self.nodos[id] = Nodo(id)\n",
    "\n",
    "    def agregar_arista(self, id1, id2):\n",
    "        \"\"\"Conecta dos nodos existentes con una arista\"\"\"\n",
    "        if id1 in self.nodos and id2 in self.nodos:\n",
    "            Arista(self.nodos[id1], self.nodos[id2])\n",
    "            \n",
    "    \"\"\"Algortmos BFS\"\"\"\n",
    "\n",
    "    def bfs_camino_corto(self, inicio_id, fin_id):\n",
    "        \"\"\"Implementación de BFS para encontrar el camino más corto\"\"\"\n",
    "        if inicio_id not in self.nodos or fin_id not in self.nodos:\n",
    "            return None\n",
    "\n",
    "        # Reiniciar estados de los nodos\n",
    "        for nodo in self.nodos.values():\n",
    "            nodo.visitado = False\n",
    "            nodo.padre = None\n",
    "            nodo.distancia = float('inf')\n",
    "\n",
    "        cola = deque()\n",
    "        inicio = self.nodos[inicio_id]\n",
    "        inicio.visitado = True\n",
    "        inicio.distancia = 0\n",
    "        cola.append(inicio)\n",
    "\n",
    "        while cola:\n",
    "            actual = cola.popleft()\n",
    "\n",
    "            # Si encontramos el nodo objetivo\n",
    "            if actual.id == fin_id:\n",
    "                camino = []\n",
    "                while actual is not None:\n",
    "                    camino.append(actual.id)\n",
    "                    actual = actual.padre\n",
    "                return camino[::-1]  # Invertir para mostrar inicio→fin\n",
    "\n",
    "            # Explorar vecinos\n",
    "            for vecino in actual.vecinos:\n",
    "                if not vecino.visitado:\n",
    "                    vecino.visitado = True\n",
    "                    vecino.distancia = actual.distancia + 1\n",
    "                    vecino.padre = actual\n",
    "                    cola.append(vecino)\n",
    "\n",
    "        return None  # No hay camino\n",
    "    \n",
    "    \"\"\"Algortmos DFS\"\"\"\n",
    "\n",
    "    def dfs_ruta_profunda(self, inicio_id, fin_id):\n",
    "        \"\"\"Encuentra la ruta más profunda usando DFS recursivo\"\"\"\n",
    "        if inicio_id not in self.nodos or fin_id not in self.nodos:\n",
    "            return None\n",
    "\n",
    "        # Reiniciar estados\n",
    "        for nodo in self.nodos.values():\n",
    "            nodo.visitado = False\n",
    "            nodo.padre = None\n",
    "\n",
    "        self.max_profundidad = 0\n",
    "        self.mejor_camino = []\n",
    "        \n",
    "        # Llamada a DFS recursivo\n",
    "        self._dfs_recursivo(self.nodos[inicio_id], self.nodos[fin_id], [inicio_id])\n",
    "        \n",
    "        return self.mejor_camino if self.mejor_camino else None\n",
    "\n",
    "    def _dfs_recursivo(self, actual, fin, camino_actual):\n",
    "        \"\"\"Función auxiliar recursiva para DFS\"\"\"\n",
    "        actual.visitado = True\n",
    "\n",
    "        # Si encontramos el nodo final\n",
    "        if actual.id == fin.id:\n",
    "            if len(camino_actual) > self.max_profundidad:\n",
    "                self.max_profundidad = len(camino_actual)\n",
    "                self.mejor_camino = list(camino_actual)\n",
    "            return\n",
    "\n",
    "        # Explorar vecinos\n",
    "        for vecino in actual.vecinos:\n",
    "            if not vecino.visitado:\n",
    "                vecino.padre = actual\n",
    "                self._dfs_recursivo(vecino, fin, camino_actual + [vecino.id])\n",
    "                vecino.visitado = False  # Backtracking"
   ]
  },
  {
   "cell_type": "markdown",
   "id": "03edf442",
   "metadata": {},
   "source": [
    "### Ejemplo de uso"
   ]
  },
  {
   "cell_type": "code",
   "execution_count": 127,
   "id": "a418762a",
   "metadata": {},
   "outputs": [
    {
     "name": "stdout",
     "output_type": "stream",
     "text": [
      "BFS - Camino más corto de Casa a Universidad: Casa → B → C → Universidad\n",
      "DFS - Ruta más profunda de Casa a Universidad: Casa → F → E → G → H → A → B → C → D → J → Universidad\n"
     ]
    }
   ],
   "source": [
    "if __name__ == \"__main__\":\n",
    "    # Crear grafo de ejemplo (mapa de ciudad)\n",
    "    g = Grafo()\n",
    "    \n",
    "    # Agregar nodos (intersecciones importantes)\n",
    "    intersecciones = ['Casa', 'A', 'B', 'C', 'D', 'E', 'F', 'G', 'H', 'J', 'Universidad']\n",
    "    for nodo in intersecciones:\n",
    "        g.agregar_nodo(nodo)\n",
    "    \n",
    "    # Conectar las intersecciones\n",
    "    conexiones = [\n",
    "        ('Casa', 'A'), ('Casa', 'B'), ('Casa', 'F'),\n",
    "        ('A', 'B'), ('A', 'H'),\n",
    "        ('B', 'C'),\n",
    "        ('C', 'D'), ('C', 'Universidad'),\n",
    "        ('D', 'G'), ('D', 'H'), ('D', 'J'),\n",
    "        ('E', 'F'), ('E', 'G'),\n",
    "        ('G', 'H'),\n",
    "        ('J', 'Universidad')\n",
    "    ]\n",
    "    for id1, id2 in conexiones:\n",
    "        g.agregar_arista(id1, id2)\n",
    "    \n",
    "    # Ejemplo de búsqueda\n",
    "    inicio = 'Casa'\n",
    "    fin = 'Universidad'\n",
    "    \n",
    "    # BFS - Camino más corto\n",
    "    camino_corto = g.bfs_camino_corto(inicio, fin)\n",
    "    print(f\"BFS - Camino más corto de {inicio} a {fin}: {' → '.join(camino_corto)}\")\n",
    "    \n",
    "    # DFS - Ruta más profunda\n",
    "    ruta_profunda = g.dfs_ruta_profunda(inicio, fin)\n",
    "    print(f\"DFS - Ruta más profunda de {inicio} a {fin}: {' → '.join(ruta_profunda)}\")"
   ]
  }
 ],
 "metadata": {
  "kernelspec": {
   "display_name": "Python 3",
   "language": "python",
   "name": "python3"
  },
  "language_info": {
   "codemirror_mode": {
    "name": "ipython",
    "version": 3
   },
   "file_extension": ".py",
   "mimetype": "text/x-python",
   "name": "python",
   "nbconvert_exporter": "python",
   "pygments_lexer": "ipython3",
   "version": "3.13.0"
  }
 },
 "nbformat": 4,
 "nbformat_minor": 5
}
